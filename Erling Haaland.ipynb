{
 "cells": [
  {
   "cell_type": "code",
   "execution_count": 15,
   "id": "a9bdfc98",
   "metadata": {},
   "outputs": [
    {
     "data": {
      "image/png": "[encoded data removed]",
      "text/plain": [
       "<Figure size 864x720 with 1 Axes>"
      ]
     },
     "metadata": {
      "needs_background": "light"
     },
     "output_type": "display_data"
    }
   ],
   "source": [
    "import matplotlib.pyplot as plt\n",
    "from scipy.stats import binom\n",
    "from tabulate import tabulate\n",
    "import numpy as np\n",
    "\n",
    "# Define the parameters of the distribution\n",
    "n = 34  # number of trials\n",
    "p = 0.94  # probability of success\n",
    "\n",
    "# Create the binomial distribution object\n",
    "dist = binom(n, p)\n",
    "\n",
    "# Calculate the probabilities of different number of successes\n",
    "x = range(n+1)\n",
    "probs = [dist.pmf(i) for i in x]\n",
    "\n",
    "# Set figure size and create bar chart of the probabilities\n",
    "fig, ax = plt.subplots(figsize=(12, 10))\n",
    "ax.bar(x, probs, align='center')\n",
    "\n",
    "# Add probabilities as text above the bars for the specified range of successes\n",
    "for i in range(26, 35):\n",
    "    ax.text(i, probs[i], '{:.3f}'.format(probs[i]), ha='center', va='bottom')\n",
    "\n",
    "# Label the chart and set the x-axis limits to show only a specific range of successes\n",
    "ax.set_xlabel('Number of successes')\n",
    "ax.set_ylabel('Probability')\n",
    "ax.set_title('Erling Haaland Binomial Distribution for Penalties')\n",
    "ax.set_xlim([26, 34])\n",
    "\n",
    "plt.show()"
   ]
  },
  {
   "cell_type": "code",
   "execution_count": 18,
   "id": "c9c9e4ac",
   "metadata": {},
   "outputs": [
    {
     "name": "stdout",
     "output_type": "stream",
     "text": [
      "Mean: 31.96\n",
      "Standard deviation: 1.38\n"
     ]
    }
   ],
   "source": [
    "# Calculate the mean and standard deviation of the distribution\n",
    "mean = dist.mean()\n",
    "std = dist.std()\n",
    "\n",
    "# Print the mean and standard deviation of the distribution\n",
    "print(f\"Mean: {mean:.2f}\")\n",
    "print(f\"Standard deviation: {std:.2f}\")"
   ]
  },
  {
   "cell_type": "code",
   "execution_count": 19,
   "id": "d29305b1",
   "metadata": {},
   "outputs": [],
   "source": [
    "# Calculate the cumulative probabilities of different number of successes\n",
    "cum_probs = [dist.cdf(i) for i in x]"
   ]
  },
  {
   "cell_type": "code",
   "execution_count": 25,
   "id": "8631e929",
   "metadata": {},
   "outputs": [
    {
     "name": "stdout",
     "output_type": "stream",
     "text": [
      "Probability of 29 or fewer successes: 0.0506\n"
     ]
    }
   ],
   "source": [
    "# Calculate the probability of 30 or more successes\n",
    "prob = 1 - (binom(n, p).cdf(29))\n",
    "\n",
    "print(f\"Probability of 29 or fewer successes: {1-prob:.4f}\")"
   ]
  },
  {
   "cell_type": "code",
   "execution_count": 26,
   "id": "9ec8179c",
   "metadata": {},
   "outputs": [
    {
     "name": "stdout",
     "output_type": "stream",
     "text": [
      "Probability of 30 or more successes: 0.9494\n"
     ]
    }
   ],
   "source": [
    "print(f\"Probability of 30 or more successes: {prob:.4f}\")"
   ]
  },
  {
   "cell_type": "code",
   "execution_count": 27,
   "id": "7f2b70f3",
   "metadata": {},
   "outputs": [
    {
     "data": {
      "text/plain": [
       "1.0"
      ]
     },
     "execution_count": 27,
     "metadata": {},
     "output_type": "execute_result"
    }
   ],
   "source": [
    "0.9494+0.0506"
   ]
  },
  {
   "cell_type": "code",
   "execution_count": 20,
   "id": "18f819e8",
   "metadata": {},
   "outputs": [
    {
     "name": "stdout",
     "output_type": "stream",
     "text": [
      "  Number of successes    Probability    Cumulative probability\n",
      "---------------------  -------------  ------------------------\n",
      "                    0          0                         0\n",
      "                    1          0                         0\n",
      "                    2          0                         0\n",
      "                    3          0                         0\n",
      "                    4          0                         0\n",
      "                    5          0                         0\n",
      "                    6          0                         0\n",
      "                    7          0                         0\n",
      "                    8          0                         0\n",
      "                    9          0                         0\n",
      "                   10          0                         0\n",
      "                   11          0                         0\n",
      "                   12          0                         0\n",
      "                   13          0                         0\n",
      "                   14          0                         0\n",
      "                   15          0                         0\n",
      "                   16          0                         0\n",
      "                   17          0                         0\n",
      "                   18          0                         0\n",
      "                   19          0                         0\n",
      "                   20          0                         0\n",
      "                   21          0                         0\n",
      "                   22          0                         0\n",
      "                   23          0                         0\n",
      "                   24          0                         0\n",
      "                   25          0                         0\n",
      "                   26          0.001                     0.001\n",
      "                   27          0.003                     0.004\n",
      "                   28          0.011                     0.015\n",
      "                   29          0.036                     0.051\n",
      "                   30          0.094                     0.145\n",
      "                   31          0.19                      0.334\n",
      "                   32          0.279                     0.613\n",
      "                   33          0.265                     0.878\n",
      "                   34          0.122                     1\n"
     ]
    }
   ],
   "source": [
    "# Create a table of probabilities and cumulative probabilities\n",
    "table = [[i, '{:.3f}'.format(probs[i]), '{:.3f}'.format(cum_probs[i])] for i in x]\n",
    "headers = ['Number of successes', 'Probability', 'Cumulative probability']\n",
    "print(tabulate(table, headers=headers))"
   ]
  },
  {
   "cell_type": "code",
   "execution_count": null,
   "id": "f01cced5",
   "metadata": {},
   "outputs": [],
   "source": []
  }
 ],
 "metadata": {
  "kernelspec": {
   "display_name": "Python 3 (ipykernel)",
   "language": "python",
   "name": "python3"
  },
  "language_info": {
   "codemirror_mode": {
    "name": "ipython",
    "version": 3
   },
   "file_extension": ".py",
   "mimetype": "text/x-python",
   "name": "python",
   "nbconvert_exporter": "python",
   "pygments_lexer": "ipython3",
   "version": "3.9.12"
  }
 },
 "nbformat": 4,
 "nbformat_minor": 5
}
